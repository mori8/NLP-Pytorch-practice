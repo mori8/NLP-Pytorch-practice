{
  "nbformat": 4,
  "nbformat_minor": 0,
  "metadata": {
    "colab": {
      "name": "Untitled2.ipynb",
      "provenance": [],
      "collapsed_sections": [],
      "authorship_tag": "ABX9TyPTyU2GdAYUH8rVLbViJl24",
      "include_colab_link": true
    },
    "kernelspec": {
      "name": "python3",
      "display_name": "Python 3"
    },
    "language_info": {
      "name": "python"
    },
    "accelerator": "GPU"
  },
  "cells": [
    {
      "cell_type": "markdown",
      "metadata": {
        "id": "view-in-github",
        "colab_type": "text"
      },
      "source": [
        "<a href=\"https://colab.research.google.com/github/mori8/NLP-Pytorch-practice/blob/main/Chpter%201%3A%20%EC%86%8C%EA%B0%9C.ipynb\" target=\"_parent\"><img src=\"https://colab.research.google.com/assets/colab-badge.svg\" alt=\"Open In Colab\"/></a>"
      ]
    },
    {
      "cell_type": "markdown",
      "metadata": {
        "id": "SRYQTwe6W8xr"
      },
      "source": [
        "\n",
        "# Chapter 1: 소개\n",
        "\n",
        "NLP는 언어학 지식에 상관없이 텍스트를 이해하는 통계적인 방법을 사용해 실전 문제를 해결하는 일련의 기술을 말한다.\n",
        "텍스트의 이해는 계산 가능한 표현으로 변환함으로써 이루어지며, 이 표현은 벡터, 텐서, 그래프, 트리같은 이산적이거나 연속적으로 조합한 구조다.\n"
      ]
    },
    {
      "cell_type": "markdown",
      "metadata": {
        "id": "C3de_2YYXByr"
      },
      "source": [
        "## 1.1 지도 학습\n",
        "\n",
        "머신러닝에서 지도 혹은 **지도 학습**은 **샘플**에 대응하는 **타깃(예측하는 값)**의 정답을 제공하는 방식을 말한다. 원하는 정답이 존재하고, 모델을 학습시켜 정답에 가까운 결과를 내도록 만든다.\n",
        "- 예시 1) 문서 분류 작업에서 샘플 = 문서, 타깃 = 범주형 레이블(스포츠 기사, 악플, 소설 등)\n",
        "- 예시 2) 기계 번역에서 샘플 = 한 언어의 문장, 타깃 = 다른 언어의 문장 \n",
        "\n"
      ]
    },
    {
      "cell_type": "markdown",
      "metadata": {
        "id": "baV0GlNmdh_3"
      },
      "source": [
        "### 1.2.1 원-핫 표현\n",
        "\n",
        "0 벡터에서 시작해 문장이나 문서에 등장하는 단어에 상응하는 원소를 1로 설정한다. 어떤 말뭉치의 원-핫 표현은 `총 단어 개수 x 어떤 말뭉치가 포함하고 있는 단어 개수` 크기의 행렬이다. \n",
        "\n",
        "[사진 출처(링크)](https://towardsdatascience.com/word-embedding-in-nlp-one-hot-encoding-and-skip-gram-neural-network-81b424da58f2)\n",
        "\n",
        "![one-hot representation](https://miro.medium.com/max/1400/0*QMGjp-fPYpPaE3eK)"
      ]
    },
    {
      "cell_type": "markdown",
      "metadata": {
        "id": "aXGnPgzGYXHb"
      },
      "source": [
        "### 1.2.2 TF 표현\n",
        "\n",
        "> 문서 내에서 이 단어가 얼마나 자주 등장하는가?\n",
        "\n",
        "소속 단어들의 원-핫 표현을 합해 만든다. 예를 들어 앞에서 언급한 원-핫 인코딩 방식을 사용한 'Fruits flies like time flies a fruit'의 TF 표현은 `[1, 2, 2, 1, 1, 0, 0, 0]` 이며, 각 원소는 해당 단어가 문장(말뭉치)에 등장하는 횟수이다. 단어 $w$의 TF는 $TF(w)$라고 표기한다."
      ]
    },
    {
      "cell_type": "code",
      "metadata": {
        "colab": {
          "base_uri": "https://localhost:8080/",
          "height": 282
        },
        "id": "rDkJabazYWS4",
        "outputId": "8e328828-e6cc-4090-da74-4d92e494e4c9"
      },
      "source": [
        "from sklearn.feature_extraction.text import CountVectorizer\n",
        "import seaborn as sns\n",
        "\n",
        "corpus = ['Time flies like an arrow.',\n",
        "          'Fruit flies like a banana.'] # NLP 분야에서는 데이터셋을 '말뭉치' 혹은 '코퍼스'라고 부른다.\n",
        "one_hot_vectorizer = CountVectorizer(binary=True)\n",
        "one_hot = one_hot_vectorizer.fit_transform(corpus).toarray()\n",
        "vocab = one_hot_vectorizer.get_feature_names()\n",
        "sns.heatmap(one_hot, annot=True,\n",
        "            cbar=False, xticklabels=vocab,\n",
        "            yticklabels=['Sentence 1', 'Sentence 2'])"
      ],
      "execution_count": 1,
      "outputs": [
        {
          "output_type": "execute_result",
          "data": {
            "text/plain": [
              "<matplotlib.axes._subplots.AxesSubplot at 0x7fcba1a71f50>"
            ]
          },
          "metadata": {
            "tags": []
          },
          "execution_count": 1
        },
        {
          "output_type": "display_data",
          "data": {
            "image/png": "[encoded data removed]",
            "text/plain": [
              "<Figure size 432x288 with 1 Axes>"
            ]
          },
          "metadata": {
            "tags": [],
            "needs_background": "light"
          }
        }
      ]
    },
    {
      "cell_type": "markdown",
      "metadata": {
        "id": "WsfaWMFBevi5"
      },
      "source": [
        "### 1.2.3 TF-IDF 표현\n",
        "\n",
        "> 다른 문서에서도 자주 등장하는 단어는 중요한 단어가 아니다.</br>\n",
        "  다른 문서에는 자주 등장하지 않으면서 해당 문서에만 자주 등장하는 단어를 찾자.\n",
        "\n",
        "다른 문서에서는 찾아보기 힘들고, 해당 문서에만 자주 등장하는 단어는 그 문서의 특징을 잘 나타낸다. 이런 단어를 착기 위해서는 **IDF(역문서 빈도)**를 사용하는 것이 적합하다. 말뭉치 한 개에 대하여 $IDF(w) = log{N/n_w}$으로 정의된다. 여기서 $n_w$는 단어 $w$를 포함한 문서의 개수이며, $N$은 전체 문서 개수이다.\n",
        "\n",
        "TF-IDF 점수는 TF와 IDF를 곱한 $TF(w) * IDF(w)$이다. 특정 문서에서만(IDF) 자주 등장해야(TF) 주로 발견할 수 있어야 높은 TF-IDF 점수를 얻을 수 있다."
      ]
    },
    {
      "cell_type": "code",
      "metadata": {
        "colab": {
          "base_uri": "https://localhost:8080/",
          "height": 282
        },
        "id": "9a6-Z1fBhtjg",
        "outputId": "f9dd2361-4071-41da-90e2-b48ad6249e61"
      },
      "source": [
        "from sklearn.feature_extraction.text import TfidfVectorizer\n",
        "\n",
        "tfidf_vectorizer = TfidfVectorizer()\n",
        "tfidf = tfidf_vectorizer.fit_transform(corpus).toarray()\n",
        "sns.heatmap(tfidf, annot=True, cbar=False, xticklabels=vocab,\n",
        "            yticklabels=['Sentence 1', 'Sentence 2'])"
      ],
      "execution_count": 2,
      "outputs": [
        {
          "output_type": "execute_result",
          "data": {
            "text/plain": [
              "<matplotlib.axes._subplots.AxesSubplot at 0x7fcba1204050>"
            ]
          },
          "metadata": {
            "tags": []
          },
          "execution_count": 2
        },
        {
          "output_type": "display_data",
          "data": {
            "image/png": "[encoded data removed]",
            "text/plain": [
              "<Figure size 432x288 with 1 Axes>"
            ]
          },
          "metadata": {
            "tags": [],
            "needs_background": "light"
          }
        }
      ]
    },
    {
      "cell_type": "markdown",
      "metadata": {
        "id": "R3Azb5PNgf3u"
      },
      "source": [
        "### 1.2.4 타깃 인코딩\n",
        "\n",
        "타깃 변수의 정확한 형태는 풀려는 NLP 문제에 따라 다르다.\n",
        "\n",
        "- 대부분의 NLP 작업에서 타깃의 형태는 **범주형 레이블**이다. (ex. 언어 모델링)\n",
        "- 일부 NLP 문제는 주어진 텍스트에서 **수치**를 예측한다.  (ex. 어떤 수필에 대하여 가독성 점수 매기기, 트윗을 보고 사용자의 연령대 예측)"
      ]
    },
    {
      "cell_type": "markdown",
      "metadata": {
        "id": "SfpGB-XciKU5"
      },
      "source": [
        "## 1.3 계산 그래프\n"
      ]
    },
    {
      "cell_type": "markdown",
      "metadata": {
        "id": "moCDVfcXkAAT"
      },
      "source": [
        "## 1.4 파이토치 기초\n",
        "\n",
        "### 1.4.1 파이토치 설치\n",
        "\n",
        "\n",
        "```\n",
        "conda install pytorch torchvision torchaudio cpuonly -c pytorch\n",
        "```\n"
      ]
    },
    {
      "cell_type": "markdown",
      "metadata": {
        "id": "ZWgpnKi1kemm"
      },
      "source": [
        "### 1.4.2 텐서 만들기"
      ]
    },
    {
      "cell_type": "code",
      "metadata": {
        "id": "3nzOn_hXkjdm"
      },
      "source": [
        "# 헬퍼 함수 정의. 텐서의 타입과 차원, 값 등의 텐서 속성을 출력한다.\n",
        "def describe(x):\n",
        "  print(\"타입: {0}\".format(x.type()))\n",
        "  print(\"크기: {0}\".format(x.shape))\n",
        "  print(\"값: {0}\".format(x))"
      ],
      "execution_count": 3,
      "outputs": []
    },
    {
      "cell_type": "code",
      "metadata": {
        "colab": {
          "base_uri": "https://localhost:8080/"
        },
        "id": "L0en15-xlKSp",
        "outputId": "f5afad07-7425-44fc-a3e8-caa2c956343a"
      },
      "source": [
        "import torch\n",
        "describe(torch.Tensor(2, 3)) # 텐서의 차원을 지정, 랜덤 초기화"
      ],
      "execution_count": 4,
      "outputs": [
        {
          "output_type": "stream",
          "text": [
            "타입: torch.FloatTensor\n",
            "크기: torch.Size([2, 3])\n",
            "값: tensor([[6.7034e-10, 3.0925e-41, 3.7835e-44],\n",
            "        [0.0000e+00,        nan, 1.6255e-43]])\n"
          ],
          "name": "stdout"
        }
      ]
    },
    {
      "cell_type": "code",
      "metadata": {
        "colab": {
          "base_uri": "https://localhost:8080/"
        },
        "id": "Z2oR63zSlfor",
        "outputId": "3da663ab-4a1e-4bac-a2fd-ff1f9e80afbf"
      },
      "source": [
        "describe(torch.rand(2, 3))  # 균등 분포\n",
        "describe(torch.randn(2, 3)) # 표준 정규 분포"
      ],
      "execution_count": 4,
      "outputs": [
        {
          "output_type": "stream",
          "text": [
            "타입: torch.FloatTensor\n",
            "크기: torch.Size([2, 3])\n",
            "값: tensor([[0.9006, 0.4772, 0.9488],\n",
            "        [0.2737, 0.0231, 0.6885]])\n",
            "타입: torch.FloatTensor\n",
            "크기: torch.Size([2, 3])\n",
            "값: tensor([[-0.6236, -1.8377, -0.3770],\n",
            "        [-1.7423,  0.6620, -2.4051]])\n"
          ],
          "name": "stdout"
        }
      ]
    },
    {
      "cell_type": "code",
      "metadata": {
        "colab": {
          "base_uri": "https://localhost:8080/"
        },
        "id": "FRDFsF51milz",
        "outputId": "4ef2cca7-0cc9-46f5-a03d-5c09a5b2b377"
      },
      "source": [
        "# 동일한 스칼라값으로 채운 텐서 생성\n",
        "describe(torch.zeros(2, 3))\n",
        "x = torch.ones(2, 3)\n",
        "describe(x)\n",
        "\n",
        "# 밑줄 문자(_)가 있는 파이토치 인-플레이스 메서드는 텐서값을 바꾸는 연산을 의미한다.\n",
        "# 인-플레이스 메서드는 새로운 객체를 만들지 않고 현잿값을 변경한다.\n",
        "x.fill_(13)\n",
        "describe(x)"
      ],
      "execution_count": 5,
      "outputs": [
        {
          "output_type": "stream",
          "text": [
            "타입: torch.FloatTensor\n",
            "크기: torch.Size([2, 3])\n",
            "값: tensor([[0., 0., 0.],\n",
            "        [0., 0., 0.]])\n",
            "타입: torch.FloatTensor\n",
            "크기: torch.Size([2, 3])\n",
            "값: tensor([[1., 1., 1.],\n",
            "        [1., 1., 1.]])\n",
            "타입: torch.FloatTensor\n",
            "크기: torch.Size([2, 3])\n",
            "값: tensor([[13., 13., 13.],\n",
            "        [13., 13., 13.]])\n"
          ],
          "name": "stdout"
        }
      ]
    },
    {
      "cell_type": "code",
      "metadata": {
        "colab": {
          "base_uri": "https://localhost:8080/"
        },
        "id": "Vo9GMlWhqz0e",
        "outputId": "f6331f46-9175-497e-e7d5-5c9236c0600c"
      },
      "source": [
        "# 리스트를 사용해 텐서 생성\n",
        "x = torch.Tensor([[1, 2, 3],\n",
        "                 [4, 5, 6]])\n",
        "describe(x)"
      ],
      "execution_count": 6,
      "outputs": [
        {
          "output_type": "stream",
          "text": [
            "타입: torch.FloatTensor\n",
            "크기: torch.Size([2, 3])\n",
            "값: tensor([[1., 2., 3.],\n",
            "        [4., 5., 6.]])\n"
          ],
          "name": "stdout"
        }
      ]
    },
    {
      "cell_type": "code",
      "metadata": {
        "colab": {
          "base_uri": "https://localhost:8080/"
        },
        "id": "ENpCsN2ZrB8t",
        "outputId": "895ac0ad-2160-46d6-be21-a15975f96f8a"
      },
      "source": [
        "# numpy로 텐서 생성 후 초기화하기\n",
        "import numpy as np\n",
        "\n",
        "npy = np.random.rand(2, 3)\n",
        "describe(torch.from_numpy(npy))"
      ],
      "execution_count": 7,
      "outputs": [
        {
          "output_type": "stream",
          "text": [
            "타입: torch.DoubleTensor\n",
            "크기: torch.Size([2, 3])\n",
            "값: tensor([[0.0675, 0.3753, 0.8420],\n",
            "        [0.5249, 0.5926, 0.2465]], dtype=torch.float64)\n"
          ],
          "name": "stdout"
        }
      ]
    },
    {
      "cell_type": "markdown",
      "metadata": {
        "id": "OnOaz-BUsPLQ"
      },
      "source": [
        "### 1.4.3 텐서 타입과 크기"
      ]
    },
    {
      "cell_type": "code",
      "metadata": {
        "colab": {
          "base_uri": "https://localhost:8080/"
        },
        "id": "cTb5gWUasRz4",
        "outputId": "b9fa47d3-f7cb-4f21-cfba-fe7508ea7639"
      },
      "source": [
        "# torch.Tensor 생성자를 사용할 때 기본 텐서 타입은 torch.FloatTensor다.\n",
        "# 텐서 타입은 초기화할 때 지정하거나 나중에 타입 캐스팅 메서드를 사용해 다른 타입(float, long, double)으로 바꿀 수 있다.\n",
        "x = torch.FloatTensor([[1, 2, 3],\n",
        "                       [4, 5, 6]])\n",
        "describe(x)\n",
        "\n",
        "x = x.long()\n",
        "describe(x)\n",
        "\n",
        "x = torch.tensor([[1, 2, 3],\n",
        "                  [4, 5, 6]], dtype=torch.int64)\n",
        "describe(x)\n",
        "\n",
        "x = x.float()\n",
        "describe(x)"
      ],
      "execution_count": 12,
      "outputs": [
        {
          "output_type": "stream",
          "text": [
            "타입: torch.FloatTensor\n",
            "크기: torch.Size([2, 3])\n",
            "값: tensor([[1., 2., 3.],\n",
            "        [4., 5., 6.]])\n",
            "타입: torch.LongTensor\n",
            "크기: torch.Size([2, 3])\n",
            "값: tensor([[1, 2, 3],\n",
            "        [4, 5, 6]])\n",
            "타입: torch.LongTensor\n",
            "크기: torch.Size([2, 3])\n",
            "값: tensor([[1, 2, 3],\n",
            "        [4, 5, 6]])\n",
            "타입: torch.FloatTensor\n",
            "크기: torch.Size([2, 3])\n",
            "값: tensor([[1., 2., 3.],\n",
            "        [4., 5., 6.]])\n"
          ],
          "name": "stdout"
        }
      ]
    },
    {
      "cell_type": "markdown",
      "metadata": {
        "id": "CiEJ4nqcEjno"
      },
      "source": [
        "### 1.4.4 텐서 연산\n",
        "\n",
        "텐서는 +, -, *, /을 사용해 연산을 수행할 수 있다.\n",
        "각 연산자 대신에 이에 대응하는 메서드(`.add()` 등)을 사용할 수도 있다."
      ]
    },
    {
      "cell_type": "code",
      "metadata": {
        "colab": {
          "base_uri": "https://localhost:8080/"
        },
        "id": "BcjhIMMDFPI_",
        "outputId": "6c6ce66c-b7bc-4a6a-d846-3047de717ebc"
      },
      "source": [
        "# 같은 인덱스에 위치한 텐서끼리 연산 \n",
        "x = torch.randn(2, 3)\n",
        "describe(x)\n",
        "\n",
        "describe(torch.add(x, x))\n",
        "\n",
        "describe(x + x)"
      ],
      "execution_count": 13,
      "outputs": [
        {
          "output_type": "stream",
          "text": [
            "타입: torch.FloatTensor\n",
            "크기: torch.Size([2, 3])\n",
            "값: tensor([[ 0.7065, -1.1441,  1.4765],\n",
            "        [ 0.1030,  0.6939, -0.6692]])\n",
            "타입: torch.FloatTensor\n",
            "크기: torch.Size([2, 3])\n",
            "값: tensor([[ 1.4130, -2.2882,  2.9529],\n",
            "        [ 0.2059,  1.3879, -1.3384]])\n",
            "타입: torch.FloatTensor\n",
            "크기: torch.Size([2, 3])\n",
            "값: tensor([[ 1.4130, -2.2882,  2.9529],\n",
            "        [ 0.2059,  1.3879, -1.3384]])\n"
          ],
          "name": "stdout"
        }
      ]
    },
    {
      "cell_type": "markdown",
      "metadata": {
        "id": "b6XW9jCAF4G7"
      },
      "source": [
        "텐서의 특정 차원에 적용할 수 있는 연산도 있다. 2D 텐서는 행을 차원 0, 열을 차원 1로 표현한다."
      ]
    },
    {
      "cell_type": "code",
      "metadata": {
        "colab": {
          "base_uri": "https://localhost:8080/"
        },
        "id": "cuGWZgwDF2KQ",
        "outputId": "1bdece95-6402-446b-e3a4-aaffd8da0b7f"
      },
      "source": [
        "# arange() 함수는 0에서 시작해서 지정한 값 이전까지 1씩 증가하는 텐서를 만든다.\n",
        "x = torch.arange(6)\n",
        "describe(x)\n",
        "\n",
        "# view() 메서드는 통일한 데이터를 공유하는 새로운 텐서를 만든다. \n",
        "x = x.view(2, 3)\n",
        "describe(x)\n",
        "\n",
        "# 열끼리 덧셈\n",
        "describe(torch.sum(x, dim=0))\n",
        "# 행끼리 덧셈\n",
        "describe(torch.sum(x, dim=1))\n",
        "\n",
        "# 0차원과 1차원을 전치한 텐서 생성\n",
        "describe(torch.transpose(x, 0, 1))"
      ],
      "execution_count": 16,
      "outputs": [
        {
          "output_type": "stream",
          "text": [
            "타입: torch.LongTensor\n",
            "크기: torch.Size([6])\n",
            "값: tensor([0, 1, 2, 3, 4, 5])\n",
            "타입: torch.LongTensor\n",
            "크기: torch.Size([2, 3])\n",
            "값: tensor([[0, 1, 2],\n",
            "        [3, 4, 5]])\n",
            "타입: torch.LongTensor\n",
            "크기: torch.Size([3])\n",
            "값: tensor([3, 5, 7])\n",
            "타입: torch.LongTensor\n",
            "크기: torch.Size([2])\n",
            "값: tensor([ 3, 12])\n",
            "타입: torch.LongTensor\n",
            "크기: torch.Size([3, 2])\n",
            "값: tensor([[0, 3],\n",
            "        [1, 4],\n",
            "        [2, 5]])\n"
          ],
          "name": "stdout"
        }
      ]
    },
    {
      "cell_type": "markdown",
      "metadata": {
        "id": "LUk1YySrf7uE"
      },
      "source": [
        "### 1.4.5 인덱싱, 슬라이싱, 연결"
      ]
    },
    {
      "cell_type": "code",
      "metadata": {
        "colab": {
          "base_uri": "https://localhost:8080/"
        },
        "id": "hw7QjrnTf-sn",
        "outputId": "4d7ee341-f42f-45be-e15b-9c7e9f98c028"
      },
      "source": [
        "x = torch.arange(6).view(2, 3)\n",
        "describe(x)\n",
        "\n",
        "# 두 번 슬라이싱(0번째 행의 1번째 열까지)\n",
        "describe(x[:1, :2])\n",
        "\n",
        "describe(x[0, 1])"
      ],
      "execution_count": 17,
      "outputs": [
        {
          "output_type": "stream",
          "text": [
            "타입: torch.LongTensor\n",
            "크기: torch.Size([2, 3])\n",
            "값: tensor([[0, 1, 2],\n",
            "        [3, 4, 5]])\n",
            "타입: torch.LongTensor\n",
            "크기: torch.Size([1, 2])\n",
            "값: tensor([[0, 1]])\n",
            "타입: torch.LongTensor\n",
            "크기: torch.Size([])\n",
            "값: 1\n"
          ],
          "name": "stdout"
        }
      ]
    },
    {
      "cell_type": "code",
      "metadata": {
        "colab": {
          "base_uri": "https://localhost:8080/"
        },
        "id": "vm-RIcGwgc3Y",
        "outputId": "351bf95b-4d9e-4073-b5d0-78457e900aed"
      },
      "source": [
        "# 복잡한 인덱싱, 연속적이지 않은 텐서 인덱스 참조하기\n",
        "# 인덱스는 LongTensor여야 함\n",
        "indices = torch.LongTensor([0, 2])\n",
        "describe(torch.index_select(x, dim=1, index=indices))\n",
        "\n",
        "indices = torch.LongTensor([0, 0])\n",
        "describe(torch.index_select(x, dim=0, index=indices))\n",
        "\n",
        "row_indices = torch.arange(2).long()\n",
        "col_indices = torch.LongTensor([0, 1])\n",
        "describe(x[row_indices, col_indices])"
      ],
      "execution_count": 24,
      "outputs": [
        {
          "output_type": "stream",
          "text": [
            "타입: torch.LongTensor\n",
            "크기: torch.Size([2, 2])\n",
            "값: tensor([[0, 2],\n",
            "        [3, 5]])\n",
            "타입: torch.LongTensor\n",
            "크기: torch.Size([2, 3])\n",
            "값: tensor([[0, 1, 2],\n",
            "        [0, 1, 2]])\n",
            "타입: torch.LongTensor\n",
            "크기: torch.Size([2])\n",
            "값: tensor([0, 4])\n"
          ],
          "name": "stdout"
        }
      ]
    },
    {
      "cell_type": "code",
      "metadata": {
        "colab": {
          "base_uri": "https://localhost:8080/"
        },
        "id": "8owqnTPbkZxX",
        "outputId": "a6995b74-3b32-4ba4-a513-510f28b20624"
      },
      "source": [
        "# 텐서 연결\n",
        "x = torch.arange(6).view(2, 3)\n",
        "describe(x)\n",
        "\n",
        "describe(torch.cat([x, x], dim=0))\n",
        "\n",
        "describe(torch.cat([x, x], dim=1))\n",
        "\n",
        "describe(torch.stack([x, x]))"
      ],
      "execution_count": 25,
      "outputs": [
        {
          "output_type": "stream",
          "text": [
            "타입: torch.LongTensor\n",
            "크기: torch.Size([2, 3])\n",
            "값: tensor([[0, 1, 2],\n",
            "        [3, 4, 5]])\n",
            "타입: torch.LongTensor\n",
            "크기: torch.Size([4, 3])\n",
            "값: tensor([[0, 1, 2],\n",
            "        [3, 4, 5],\n",
            "        [0, 1, 2],\n",
            "        [3, 4, 5]])\n",
            "타입: torch.LongTensor\n",
            "크기: torch.Size([2, 6])\n",
            "값: tensor([[0, 1, 2, 0, 1, 2],\n",
            "        [3, 4, 5, 3, 4, 5]])\n",
            "타입: torch.LongTensor\n",
            "크기: torch.Size([2, 2, 3])\n",
            "값: tensor([[[0, 1, 2],\n",
            "         [3, 4, 5]],\n",
            "\n",
            "        [[0, 1, 2],\n",
            "         [3, 4, 5]]])\n"
          ],
          "name": "stdout"
        }
      ]
    },
    {
      "cell_type": "code",
      "metadata": {
        "colab": {
          "base_uri": "https://localhost:8080/"
        },
        "id": "CheebH3-ljj8",
        "outputId": "89873f57-ff5c-41f6-f3d4-bbd51471c38f"
      },
      "source": [
        "# 행렬 곱셈\n",
        "x1 = torch.arange(6).view(2, 3)\n",
        "describe(x1)\n",
        "\n",
        "x2 = torch.ones(3, 2).long()\n",
        "x2[:, 1] += 1\n",
        "describe(x2)\n",
        "\n",
        "describe(torch.mm(x1, x2))"
      ],
      "execution_count": 27,
      "outputs": [
        {
          "output_type": "stream",
          "text": [
            "타입: torch.LongTensor\n",
            "크기: torch.Size([2, 3])\n",
            "값: tensor([[0, 1, 2],\n",
            "        [3, 4, 5]])\n",
            "타입: torch.LongTensor\n",
            "크기: torch.Size([3, 2])\n",
            "값: tensor([[1, 2],\n",
            "        [1, 2],\n",
            "        [1, 2]])\n",
            "타입: torch.LongTensor\n",
            "크기: torch.Size([2, 2])\n",
            "값: tensor([[ 3,  6],\n",
            "        [12, 24]])\n"
          ],
          "name": "stdout"
        }
      ]
    },
    {
      "cell_type": "markdown",
      "metadata": {
        "id": "ZldEBDK1mIyH"
      },
      "source": [
        "### 1.4.6 텐서와 계산 그래프\n",
        "\n",
        "PyTorch의 tensor 클래스는 데이터와 대수 연산, 인덱싱, 크기 변경 같은 다양한 연산을 캡슐화한다.\n",
        "텐서의 `required_grad` 매개변수를 `True`로 지정하면 그레디언트 기반 학습에 필요한 손실 함수와 텐서의 그레디언트를 기록하는 부가 연산을 활성화한다.\n",
        "\n",
        "먼저 파이토치가 정방향 계산의 값을 기록한다. 계산이 끝나면 스칼라값 하나를 사용해 역방향 계산을 수행한다. 역방향 계산은 손실 함수의 평과 결과로 얻은 텐서에서 `backward()` 메서드를 호출해 시작한다. 역방향 계산은 정방향 계산에 참여한 텐서 객체에 대한 그레디언트 값을 계산한다.\n",
        "\n",
        "일반적으로 그레디언트는 함수 입력에 대한 함수 출력의 기울기를 나타내는 값이다. 계산 그래프에서 그레이디언트는 모델의 파라미터마다 존재하고 오류 신호에 대한 파라미터의 기여도로 생각할 수 있다. 파이토치에서 계산 그래프에 있는 노드에 대한 그레이디언트를 `.grad` 속성으로 참조할 수 있으며, 옵티마이저는 `.grad` 속성을 사용해서 파라미터값을 업데이트한다."
      ]
    },
    {
      "cell_type": "code",
      "metadata": {
        "colab": {
          "base_uri": "https://localhost:8080/"
        },
        "id": "gfLo9DeAmFnz",
        "outputId": "b24bf0e1-35f6-47ac-a5c7-edbf30657504"
      },
      "source": [
        "x = torch.ones(2, 2, requires_grad=True)\n",
        "describe(x)\n",
        "print(x.grad is None)\n",
        "\n",
        "y = (x + 2) * (x + 5) + 3\n",
        "describe(y)\n",
        "print(x.grad is None)\n",
        "\n",
        "z = y.mean()\n",
        "describe(z)\n",
        "z.backward()\n",
        "print(x.grad is None)"
      ],
      "execution_count": 30,
      "outputs": [
        {
          "output_type": "stream",
          "text": [
            "타입: torch.FloatTensor\n",
            "크기: torch.Size([2, 2])\n",
            "값: tensor([[1., 1.],\n",
            "        [1., 1.]], requires_grad=True)\n",
            "True\n",
            "타입: torch.FloatTensor\n",
            "크기: torch.Size([2, 2])\n",
            "값: tensor([[21., 21.],\n",
            "        [21., 21.]], grad_fn=<AddBackward0>)\n",
            "True\n",
            "타입: torch.FloatTensor\n",
            "크기: torch.Size([])\n",
            "값: 21.0\n",
            "False\n"
          ],
          "name": "stdout"
        }
      ]
    },
    {
      "cell_type": "markdown",
      "metadata": {
        "id": "dC6jSzNWnwAh"
      },
      "source": [
        "### 1.4.7 CUDA 텐서\n",
        "\n",
        "CUDA 텐서를 사용하면 GPU를 활용할 수 있다."
      ]
    },
    {
      "cell_type": "code",
      "metadata": {
        "colab": {
          "base_uri": "https://localhost:8080/"
        },
        "id": "b0KfcQxMoCy7",
        "outputId": "9e6326e7-f83d-450a-daf2-9ad2236b5db1"
      },
      "source": [
        "print(torch.cuda.is_available()) "
      ],
      "execution_count": 5,
      "outputs": [
        {
          "output_type": "stream",
          "text": [
            "True\n"
          ],
          "name": "stdout"
        }
      ]
    },
    {
      "cell_type": "code",
      "metadata": {
        "colab": {
          "base_uri": "https://localhost:8080/"
        },
        "id": "3SsIdLFuoLpa",
        "outputId": "d97ef03c-0cdf-46f0-89d0-abaf8343028b"
      },
      "source": [
        "# 바람직한 방법: 장치에 무관한 텐서 초기화\n",
        "device = torch.device(\"cuda\" if torch.cuda.is_available() else \"cpu\")\n",
        "print(device)\n",
        "\n",
        "x = torch.rand(3, 3).to(device)\n",
        "describe(x)"
      ],
      "execution_count": 7,
      "outputs": [
        {
          "output_type": "stream",
          "text": [
            "cuda\n",
            "타입: torch.cuda.FloatTensor\n",
            "크기: torch.Size([3, 3])\n",
            "값: tensor([[0.0253, 0.2698, 0.0244],\n",
            "        [0.9704, 0.1401, 0.6587],\n",
            "        [0.4778, 0.2507, 0.5568]], device='cuda:0')\n"
          ],
          "name": "stdout"
        }
      ]
    },
    {
      "cell_type": "markdown",
      "metadata": {
        "id": "iRtpHSOyo9ZX"
      },
      "source": [
        "CUDA 객체와 CUDA가 아닌 객체를 다루려면 두 객체가 같은 장치에 있는지 확인해야 한다. 서로 다른 장치에 있는 객체를 동시에 다루려고 하면 오류가 발생한다.\n",
        "\n",
        "GPU로 데이터를 넣고 꺼내는 작업은 비용이 많이 든다. 따라서 병렬 계산은 일반적으로 GPU에서 수행하고 최종 결과만 CPU로 전송하는 방식으로 이루어진다. 이렇게 하면 GPU를 최대로 활용할 수 있다."
      ]
    }
  ]
}