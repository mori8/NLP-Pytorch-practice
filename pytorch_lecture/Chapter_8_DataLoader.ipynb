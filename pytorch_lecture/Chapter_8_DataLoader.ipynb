{
  "nbformat": 4,
  "nbformat_minor": 0,
  "metadata": {
    "colab": {
      "name": "Chapter_8_DataLoader.ipynb",
      "provenance": [],
      "mount_file_id": "18ZKv4eWDRJdaWYkHT7iy3ikbI8xh_rHB",
      "authorship_tag": "ABX9TyM6poJQYAeQjp8JCQFabxj5",
      "include_colab_link": true
    },
    "kernelspec": {
      "name": "python3",
      "display_name": "Python 3"
    },
    "language_info": {
      "name": "python"
    }
  },
  "cells": [
    {
      "cell_type": "markdown",
      "metadata": {
        "id": "view-in-github",
        "colab_type": "text"
      },
      "source": [
        "<a href=\"https://colab.research.google.com/github/mori8/NLP-Pytorch-practice/blob/main/pytorch_lecture/Chapter_8_DataLoader.ipynb\" target=\"_parent\"><img src=\"https://colab.research.google.com/assets/colab-badge.svg\" alt=\"Open In Colab\"/></a>"
      ]
    },
    {
      "cell_type": "code",
      "metadata": {
        "id": "pX-mdzeS3KJv"
      },
      "source": [
        "import torch\n",
        "import numpy as np\n",
        "from torch.autograd import Variable\n",
        "from torch.utils.data import Dataset, DataLoader"
      ],
      "execution_count": 8,
      "outputs": []
    },
    {
      "cell_type": "code",
      "metadata": {
        "id": "jU7wm8wk0qWw"
      },
      "source": [
        "class DiabetesDataset(Dataset):\n",
        "  def __init__(self):\n",
        "    # Initialize your data, download, etc\n",
        "    xy = np.loadtxt('/content/drive/MyDrive/NLP-Pytorch/data/diabetes.csv',\n",
        "                    delimiter=',',\n",
        "                    dtype=np.float32)\n",
        "    self.len = xy.shape[0]\n",
        "    self.x_data = torch.from_numpy(xy[:, 0:-1])\n",
        "    self.y_data = torch.from_numpy(xy[:, [-1]])\n",
        "\n",
        "  def __getitem__(self, index):\n",
        "    # return one item on the index\n",
        "    return self.x_data[index], self.y_data[index]\n",
        "  \n",
        "  def __len__(self):\n",
        "    # return the data length\n",
        "    return self.len"
      ],
      "execution_count": 9,
      "outputs": []
    },
    {
      "cell_type": "code",
      "metadata": {
        "id": "ktqeHJQH2sSi"
      },
      "source": [
        "dataset = DiabetesDataset()\n",
        "train_loader = DataLoader(dataset=dataset,\n",
        "                          batch_size=32,\n",
        "                          shuffle=True,\n",
        "                          num_workers=2)\n",
        "# MNIST dataset loading\n",
        "# train_dataset = datasets.MNIST(root='./data',\n",
        "#                                train=True,\n",
        "#                                transform=transforms.ToTensor(),\n",
        "#                                download=True)"
      ],
      "execution_count": 10,
      "outputs": []
    },
    {
      "cell_type": "code",
      "metadata": {
        "id": "qDHcIK1C45F9"
      },
      "source": [
        "class Model(torch.nn.Module):\n",
        "  def __init__(self):\n",
        "    super(Model, self).__init__()\n",
        "    self.l1 = torch.nn.Linear(8, 6)\n",
        "    self.l2 = torch.nn.Linear(6, 4)\n",
        "    self.l3 = torch.nn.Linear(4, 1)\n",
        "\n",
        "    self.sigmoid = torch.nn.Sigmoid()\n",
        "  \n",
        "  def forward(self, x):\n",
        "    out1 = self.sigmoid(self.l1(x))\n",
        "    out2 = self.sigmoid(self.l2(out1))\n",
        "    y_pred = self.sigmoid(self.l3(out2))\n",
        "    \n",
        "    return y_pred"
      ],
      "execution_count": 11,
      "outputs": []
    },
    {
      "cell_type": "code",
      "metadata": {
        "colab": {
          "base_uri": "https://localhost:8080/"
        },
        "id": "AS_nHrhs5tVm",
        "outputId": "39cb7a2f-49bf-4db1-ff8d-e0e2cbe17e27"
      },
      "source": [
        "model = Model()\n",
        "\n",
        "criterion = torch.nn.BCELoss(size_average=True)\n",
        "optimizer = torch.optim.SGD(model.parameters(), lr=0.1)"
      ],
      "execution_count": 16,
      "outputs": [
        {
          "output_type": "stream",
          "name": "stderr",
          "text": [
            "/usr/local/lib/python3.7/dist-packages/torch/nn/_reduction.py:42: UserWarning: size_average and reduce args will be deprecated, please use reduction='mean' instead.\n",
            "  warnings.warn(warning.format(ret))\n"
          ]
        }
      ]
    },
    {
      "cell_type": "code",
      "metadata": {
        "colab": {
          "base_uri": "https://localhost:8080/"
        },
        "id": "6RVcdBNe7q7N",
        "outputId": "29235756-68fc-496d-f5cf-aabbb81eb75e"
      },
      "source": [
        "for epoch in range(2):\n",
        "  for i, data in enumerate(train_loader, 0):\n",
        "    # get the inputs\n",
        "    inputs, labels = data\n",
        "\n",
        "    # wrap them in Variable\n",
        "    inputs, labels = Variable(inputs), Variable(labels)\n",
        "\n",
        "    # Forward pass: Compute predicted y by passing x to the model\n",
        "    y_pred = model(inputs)\n",
        "\n",
        "    # Compute and print loss\n",
        "    loss = criterion(y_pred, labels)\n",
        "    print(epoch, i, loss.data.item())\n",
        "\n",
        "    # Zero gradients, perform a backward pass, and update the weights\n",
        "    optimizer.zero_grad()\n",
        "    loss.backward()\n",
        "    optimizer.step()"
      ],
      "execution_count": 17,
      "outputs": [
        {
          "output_type": "stream",
          "name": "stdout",
          "text": [
            "0 0 0.7745830416679382\n",
            "0 1 0.716428279876709\n",
            "0 2 0.7205697894096375\n",
            "0 3 0.7467072010040283\n",
            "0 4 0.7337294220924377\n",
            "0 5 0.7002139091491699\n",
            "0 6 0.7008066773414612\n",
            "0 7 0.6958144903182983\n",
            "0 8 0.6886893510818481\n",
            "0 9 0.6854580640792847\n",
            "0 10 0.6808761358261108\n",
            "0 11 0.6769499182701111\n",
            "0 12 0.6996569633483887\n",
            "0 13 0.679243803024292\n",
            "0 14 0.6775320172309875\n",
            "0 15 0.6759322881698608\n",
            "0 16 0.657908022403717\n",
            "0 17 0.6382836103439331\n",
            "0 18 0.7017683982849121\n",
            "0 19 0.6617403030395508\n",
            "0 20 0.6434135437011719\n",
            "0 21 0.6293090581893921\n",
            "0 22 0.6755186319351196\n",
            "0 23 0.6561045050621033\n",
            "1 0 0.6537982821464539\n",
            "1 1 0.6411983966827393\n",
            "1 2 0.6513410806655884\n",
            "1 3 0.6630263328552246\n",
            "1 4 0.6377058625221252\n",
            "1 5 0.6231191754341125\n",
            "1 6 0.6479321122169495\n",
            "1 7 0.5626042485237122\n",
            "1 8 0.6614832878112793\n",
            "1 9 0.6301470398902893\n",
            "1 10 0.6616693139076233\n",
            "1 11 0.6294732093811035\n",
            "1 12 0.6287802457809448\n",
            "1 13 0.6618395447731018\n",
            "1 14 0.6617671847343445\n",
            "1 15 0.7119101285934448\n",
            "1 16 0.5974350571632385\n",
            "1 17 0.661602258682251\n",
            "1 18 0.7123386263847351\n",
            "1 19 0.6617077589035034\n",
            "1 20 0.6944480538368225\n",
            "1 21 0.645470142364502\n",
            "1 22 0.6455418467521667\n",
            "1 23 0.6475654244422913\n"
          ]
        }
      ]
    }
  ]
}