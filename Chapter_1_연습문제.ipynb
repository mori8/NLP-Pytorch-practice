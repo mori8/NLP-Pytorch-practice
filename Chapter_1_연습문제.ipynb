{
  "nbformat": 4,
  "nbformat_minor": 0,
  "metadata": {
    "colab": {
      "name": "Chapter 1: 연습문제",
      "provenance": [],
      "authorship_tag": "ABX9TyNxMeTMDZyPEjx0bBJg4thr",
      "include_colab_link": true
    },
    "kernelspec": {
      "name": "python3",
      "display_name": "Python 3"
    },
    "language_info": {
      "name": "python"
    }
  },
  "cells": [
    {
      "cell_type": "markdown",
      "metadata": {
        "id": "view-in-github",
        "colab_type": "text"
      },
      "source": [
        "<a href=\"https://colab.research.google.com/github/mori8/NLP-Pytorch-practice/blob/main/Chapter_1_%EC%97%B0%EC%8A%B5%EB%AC%B8%EC%A0%9C.ipynb\" target=\"_parent\"><img src=\"https://colab.research.google.com/assets/colab-badge.svg\" alt=\"Open In Colab\"/></a>"
      ]
    },
    {
      "cell_type": "code",
      "metadata": {
        "id": "241DniIOh2Uf"
      },
      "source": [
        "import torch"
      ],
      "execution_count": 1,
      "outputs": []
    },
    {
      "cell_type": "markdown",
      "metadata": {
        "id": "wxY69wpviXvD"
      },
      "source": [
        "## 1. 2D 텐서를 만들고 차원 0 위치에 크기가 1인 차원을 추가하세요."
      ]
    },
    {
      "cell_type": "code",
      "metadata": {
        "colab": {
          "base_uri": "https://localhost:8080/"
        },
        "id": "-_LtmcFGicFQ",
        "outputId": "c6ba012d-2b9a-4040-8595-f8f3fc97f36b"
      },
      "source": [
        "x = torch.rand(2, 3)\n",
        "print(x)\n",
        "\n",
        "x = x.unsqueeze(0)\n",
        "print(x)"
      ],
      "execution_count": 16,
      "outputs": [
        {
          "output_type": "stream",
          "text": [
            "tensor([[0.1979, 0.9915, 0.5427],\n",
            "        [0.6097, 0.0198, 0.6830]])\n",
            "tensor([[[0.1979, 0.9915, 0.5427],\n",
            "         [0.6097, 0.0198, 0.6830]]])\n"
          ],
          "name": "stdout"
        }
      ]
    },
    {
      "cell_type": "markdown",
      "metadata": {
        "id": "TikX5HNykpMj"
      },
      "source": [
        "## 2. 이전 텐서에 추가한 차원을 삭제하세요."
      ]
    },
    {
      "cell_type": "code",
      "metadata": {
        "colab": {
          "base_uri": "https://localhost:8080/"
        },
        "id": "srU-afkvksTO",
        "outputId": "c290aef7-46a8-472f-9f18-4849f1840991"
      },
      "source": [
        "x = x.squeeze()\n",
        "print(x)"
      ],
      "execution_count": 17,
      "outputs": [
        {
          "output_type": "stream",
          "text": [
            "tensor([[0.1979, 0.9915, 0.5427],\n",
            "        [0.6097, 0.0198, 0.6830]])\n"
          ],
          "name": "stdout"
        }
      ]
    },
    {
      "cell_type": "markdown",
      "metadata": {
        "id": "6JvkZzB7micS"
      },
      "source": [
        "## 3. 범위가 [3, 7)이고 크기가 5x3인 랜덤한 텐서를 만드세요."
      ]
    },
    {
      "cell_type": "code",
      "metadata": {
        "colab": {
          "base_uri": "https://localhost:8080/"
        },
        "id": "YP7GLFLGmp92",
        "outputId": "093514ce-e226-4a27-fcf0-da9b9064c836"
      },
      "source": [
        "# x = torch.randint(3, 7, (5, 3))\n",
        "y = 3 + torch.rand(5, 3) * (7 - 3)\n",
        "print(y)"
      ],
      "execution_count": 32,
      "outputs": [
        {
          "output_type": "stream",
          "text": [
            "tensor([[4.0345, 3.0877, 3.1114],\n",
            "        [6.1356, 4.2274, 3.1316],\n",
            "        [5.0390, 6.8525, 5.6938],\n",
            "        [6.5724, 6.6052, 4.3417],\n",
            "        [3.7179, 6.8275, 3.1195]])\n"
          ],
          "name": "stdout"
        }
      ]
    },
    {
      "cell_type": "markdown",
      "metadata": {
        "id": "ur4MZjWmnu4q"
      },
      "source": [
        "## 4. 정규 분포(평균 = 0, 표준편차 = 1)를 사용해 텐서를 만드세요."
      ]
    },
    {
      "cell_type": "code",
      "metadata": {
        "colab": {
          "base_uri": "https://localhost:8080/"
        },
        "id": "mknAB5oCnz_U",
        "outputId": "9d1192a5-febb-47f3-9232-42292a209652"
      },
      "source": [
        "x = torch.randn(9, 6)\n",
        "print(x)"
      ],
      "execution_count": 21,
      "outputs": [
        {
          "output_type": "stream",
          "text": [
            "tensor([[-0.3387,  0.8933, -0.4763,  0.5968,  0.3245, -1.2078],\n",
            "        [-0.8244,  2.1357,  1.3658, -0.0092, -0.4189, -0.1693],\n",
            "        [-1.0855,  0.0241, -1.6467, -1.1751, -0.6032, -1.2480],\n",
            "        [-0.0462,  0.4032, -0.0227, -1.3231,  0.6151,  0.4570],\n",
            "        [-1.1470,  0.6683,  0.5349,  1.8625, -1.6285,  1.7796],\n",
            "        [ 0.4911,  1.1044, -0.0661,  0.7507,  1.2765, -1.0844],\n",
            "        [ 1.4902, -1.5565,  0.8874, -0.4624,  0.3194, -0.1501],\n",
            "        [-0.4221,  0.2501, -0.8666, -1.3334, -0.8982,  0.4160],\n",
            "        [ 1.6878, -0.0999, -1.2372,  2.6932,  0.2965,  1.5791]])\n"
          ],
          "name": "stdout"
        }
      ]
    },
    {
      "cell_type": "markdown",
      "metadata": {
        "id": "Z-ZgGmwBn_R4"
      },
      "source": [
        "## 5. 텐서 torch.Tensor([1, 1, 1, 0, 1])에서 0이 아닌 원소의 인덱스를 추출하세요."
      ]
    },
    {
      "cell_type": "code",
      "metadata": {
        "colab": {
          "base_uri": "https://localhost:8080/"
        },
        "id": "10VcHP8Zs184",
        "outputId": "1109d00d-651a-4c75-d7b0-0629ea8b7fb1"
      },
      "source": [
        "torch.nonzero(torch.tensor([1, 1, 1, 0, 1]))"
      ],
      "execution_count": 22,
      "outputs": [
        {
          "output_type": "execute_result",
          "data": {
            "text/plain": [
              "tensor([[0],\n",
              "        [1],\n",
              "        [2],\n",
              "        [4]])"
            ]
          },
          "metadata": {
            "tags": []
          },
          "execution_count": 22
        }
      ]
    },
    {
      "cell_type": "markdown",
      "metadata": {
        "id": "NbvmX_EstCW0"
      },
      "source": [
        "## 6. 크기가 (3, 1)인 랜덤한 텐서를 만들고 네 벌을 복사해 넣으세요."
      ]
    },
    {
      "cell_type": "code",
      "metadata": {
        "colab": {
          "base_uri": "https://localhost:8080/"
        },
        "id": "A0Y8HlAYs9vS",
        "outputId": "785ff450-2bb1-48d4-a09d-3a27f748001b"
      },
      "source": [
        "x = torch.rand(3, 1)\n",
        "# x = torch.cat([x, x, x, x], 0)\n",
        "x = x.expand(3, 4)\n",
        "print(x)"
      ],
      "execution_count": 34,
      "outputs": [
        {
          "output_type": "stream",
          "text": [
            "tensor([[0.4948, 0.4948, 0.4948, 0.4948],\n",
            "        [0.1138, 0.1138, 0.1138, 0.1138],\n",
            "        [0.8670, 0.8670, 0.8670, 0.8670]])\n"
          ],
          "name": "stdout"
        }
      ]
    },
    {
      "cell_type": "markdown",
      "metadata": {
        "id": "C7ANBkzMudY_"
      },
      "source": [
        "## 7. 3차원 행렬 두 개의 배치 행렬 곱셈을 계산하세요."
      ]
    },
    {
      "cell_type": "code",
      "metadata": {
        "colab": {
          "base_uri": "https://localhost:8080/"
        },
        "id": "Ks533UiUuip3",
        "outputId": "3941502c-723d-485a-9d6d-03e998ff89ea"
      },
      "source": [
        "a = torch.rand(3, 4, 5)\n",
        "b = torch.rand(3, 5, 4)\n",
        "\n",
        "x = torch.bmm(a, b)\n",
        "print(x)"
      ],
      "execution_count": 29,
      "outputs": [
        {
          "output_type": "stream",
          "text": [
            "tensor([[[2.2838, 1.5205, 2.0232, 1.2393],\n",
            "         [1.8896, 1.4858, 2.0987, 1.2838],\n",
            "         [2.2246, 1.7107, 2.6902, 1.4299],\n",
            "         [1.8593, 1.3022, 2.1293, 1.0192]],\n",
            "\n",
            "        [[1.1781, 0.9434, 0.8682, 1.1143],\n",
            "         [1.3768, 0.8465, 1.5260, 1.7951],\n",
            "         [1.2674, 1.5968, 1.1291, 1.4617],\n",
            "         [0.5751, 0.4179, 0.2971, 0.4026]],\n",
            "\n",
            "        [[1.0872, 2.5749, 1.1058, 2.4070],\n",
            "         [0.7925, 1.8040, 0.9332, 1.9648],\n",
            "         [1.1747, 2.7730, 0.9689, 1.9601],\n",
            "         [0.8554, 1.9509, 0.9273, 1.3932]]])\n"
          ],
          "name": "stdout"
        }
      ]
    },
    {
      "cell_type": "markdown",
      "metadata": {
        "id": "wJjSpED6vzHy"
      },
      "source": [
        "## 8. 3차원 행렬과 2차원 행렬의 배치 행렬 곱셈을 계산하세요."
      ]
    },
    {
      "cell_type": "code",
      "metadata": {
        "colab": {
          "base_uri": "https://localhost:8080/"
        },
        "id": "mnKy1WjDwG09",
        "outputId": "3e03fbe8-1abc-4f4b-a77f-854a9561cf3f"
      },
      "source": [
        "a = torch.rand(3, 4, 5)\n",
        "b = torch.rand(5, 4)\n",
        "\n",
        "x = torch.matmul(a, b)\n",
        "# x = torch.bmm(a, b.unsqueeze(0).expand(a.size(0), *b.size()))\n",
        "print(x)"
      ],
      "execution_count": 31,
      "outputs": [
        {
          "output_type": "stream",
          "text": [
            "tensor([[[1.6449, 2.2169, 2.5324, 1.8259],\n",
            "         [0.6725, 1.3796, 1.5970, 0.9099],\n",
            "         [1.6986, 2.2906, 2.6241, 1.9438],\n",
            "         [1.1414, 1.2640, 1.4569, 1.1245]],\n",
            "\n",
            "        [[0.7002, 1.5854, 1.7030, 1.0699],\n",
            "         [1.4542, 1.9033, 2.1290, 1.6473],\n",
            "         [1.4262, 1.5596, 1.9046, 1.4895],\n",
            "         [1.3642, 2.0726, 2.4510, 1.3321]],\n",
            "\n",
            "        [[1.4490, 1.8794, 2.2670, 1.3122],\n",
            "         [1.5121, 2.0012, 2.3813, 1.6121],\n",
            "         [0.7722, 1.8420, 2.0167, 1.2054],\n",
            "         [1.3149, 1.8814, 2.2498, 1.1207]]])\n"
          ],
          "name": "stdout"
        }
      ]
    }
  ]
}