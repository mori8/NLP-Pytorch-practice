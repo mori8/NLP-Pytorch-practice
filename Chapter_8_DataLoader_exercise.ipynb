{
  "nbformat": 4,
  "nbformat_minor": 0,
  "metadata": {
    "colab": {
      "name": "Chapter_8_DataLoader_exercise.ipynb",
      "provenance": [],
      "mount_file_id": "1JcwdQvLHFAWV4Z90BIJQbZaY6mKV4b5Z",
      "authorship_tag": "ABX9TyOVAPF8EX45t80KkCRew4Lv",
      "include_colab_link": true
    },
    "kernelspec": {
      "name": "python3",
      "display_name": "Python 3"
    },
    "language_info": {
      "name": "python"
    }
  },
  "cells": [
    {
      "cell_type": "markdown",
      "metadata": {
        "id": "view-in-github",
        "colab_type": "text"
      },
      "source": [
        "<a href=\"https://colab.research.google.com/github/mori8/NLP-Pytorch-practice/blob/main/Chapter_8_DataLoader_exercise.ipynb\" target=\"_parent\"><img src=\"https://colab.research.google.com/assets/colab-badge.svg\" alt=\"Open In Colab\"/></a>"
      ]
    },
    {
      "cell_type": "code",
      "metadata": {
        "id": "8oWQgkxxVXDO"
      },
      "source": [
        "import torch\n",
        "import numpy as np\n",
        "import pandas as pd\n",
        "from torch.autograd import Variable\n",
        "from torch.utils.data import Dataset, DataLoader"
      ],
      "execution_count": 16,
      "outputs": []
    },
    {
      "cell_type": "code",
      "metadata": {
        "id": "UTFi_YOWbSxy"
      },
      "source": [
        "class TitanicDataset(Dataset):\n",
        "  def __init__(self, mode='train'):\n",
        "    self.mode = mode\n",
        "    # Initialize your data, download, etc\n",
        "    d = pd.read_csv('/content/drive/MyDrive/NLP-Pytorch/data/titanic_train.csv')\n",
        "    self.len = d.shape[0]\n",
        "\n",
        "    d['Initial'] = 0\n",
        "    for i in d:\n",
        "      d['Initial'] = d.Name.str.extract('([A-Za-z]+)\\.')  # lets extract the Salutations\n",
        "    d['Initial'].replace(\n",
        "      ['Mlle', 'Mme', 'Ms', 'Dr', 'Major', 'Lady', 'Countess', 'Jonkheer', 'Col', 'Rev', 'Dona', 'Capt', 'Sir', 'Don'],\n",
        "      ['Miss', 'Miss', 'Miss', 'Mr', 'Mr', 'Mrs', 'Mrs', 'Other', 'Other', 'Other', 'Other', 'Mr', 'Mr', 'Mr'], inplace=True)\n",
        "\n",
        "    # print(d.groupby('Initial')['Age'].mean())\n",
        "\n",
        "    d.loc[(d.Age.isnull()) & (d.Initial == 'Mr'), 'Age'] = 32\n",
        "    d.loc[(d.Age.isnull()) & (d.Initial == 'Mrs'), 'Age'] = 39\n",
        "    d.loc[(d.Age.isnull()) & (d.Initial == 'Master'), 'Age'] = 7\n",
        "    d.loc[(d.Age.isnull()) & (d.Initial == 'Miss'), 'Age'] = 22\n",
        "    d.loc[(d.Age.isnull()) & (d.Initial == 'Other'), 'Age'] = 42\n",
        "\n",
        "    d['Age_band'] = 0\n",
        "    d.loc[d['Age'] <= 16, 'Age_band'] = 0\n",
        "    d.loc[(d['Age'] > 16) & (d['Age'] <= 32), 'Age_band'] = 1\n",
        "    d.loc[(d['Age'] > 32) & (d['Age'] <= 48), 'Age_band'] = 2\n",
        "    d.loc[(d['Age'] > 48) & (d['Age'] <= 64), 'Age_band'] = 3\n",
        "    d.loc[d['Age'] > 64, 'Age_band'] = 4\n",
        "\n",
        "    d['Embarked'].fillna('S', inplace=True)\n",
        "\n",
        "    d['Family_Size'] = 0\n",
        "    d['Family_Size'] = d['Parch'] + d['SibSp']  # family size\n",
        "    d['Alone'] = 0\n",
        "    d.loc[d.Family_Size == 0, 'Alone'] = 1  # Alone\n",
        "\n",
        "    d['Fare_cat'] = 0\n",
        "    d.loc[d['Fare'] <= 7.91, 'Fare_cat'] = 0\n",
        "    d.loc[(d['Fare'] > 7.91) & (d['Fare'] <= 14.454), 'Fare_cat'] = 1\n",
        "    d.loc[(d['Fare'] > 14.454) & (d['Fare'] <= 31), 'Fare_cat'] = 2\n",
        "    d.loc[(d['Fare'] > 31) & (d['Fare'] <= 513), 'Fare_cat'] = 3\n",
        "\n",
        "    d['Sex'].replace(['male', 'female'], [0, 1], inplace=True)\n",
        "    d['Embarked'].replace(['S', 'C', 'Q'], [0, 1, 2], inplace=True)\n",
        "    d['Initial'].replace(['Mr', 'Mrs', 'Miss', 'Master', 'Other'], [0, 1, 2, 3, 4], inplace=True)\n",
        "\n",
        "    d.drop(['Name', 'Age', 'Ticket', 'Fare', 'Cabin'], axis=1, inplace=True)\n",
        "    print(d.columns)\n",
        "    \n",
        "    if self.mode == 'train':\n",
        "      self.x_data = torch.tensor(d[d.columns[1:]].values, dtype=torch.float32)\n",
        "      self.y_data = torch.tensor(d['Survived'].values, dtype=torch.long)\n",
        "    else:\n",
        "      self.x_data = torch.tensor(d.values, dtype=torch.float32)\n",
        "\n",
        "  def __getitem__(self, index):\n",
        "    # return one item on the index\n",
        "    if self.mode == 'train':\n",
        "      return self.x_data[index], self.y_data[index]\n",
        "    else:\n",
        "      return self.x_data[index]\n",
        "  \n",
        "  def __len__(self):\n",
        "    # return the data length\n",
        "    return self.len"
      ],
      "execution_count": 85,
      "outputs": []
    },
    {
      "cell_type": "code",
      "metadata": {
        "colab": {
          "base_uri": "https://localhost:8080/"
        },
        "id": "TP5q2N4acHLY",
        "outputId": "5fe5f86b-608d-4227-bb03-c21c94a92977"
      },
      "source": [
        "dataset = TitanicDataset()\n",
        "train_loader = DataLoader(dataset=dataset,\n",
        "                          batch_size=64,\n",
        "                          shuffle=True,\n",
        "                          num_workers=2)"
      ],
      "execution_count": 86,
      "outputs": [
        {
          "output_type": "stream",
          "name": "stdout",
          "text": [
            "Index(['PassengerId', 'Survived', 'Pclass', 'Sex', 'SibSp', 'Parch',\n",
            "       'Embarked', 'Initial', 'Age_band', 'Family_Size', 'Alone', 'Fare_cat'],\n",
            "      dtype='object')\n"
          ]
        }
      ]
    },
    {
      "cell_type": "code",
      "metadata": {
        "id": "jXLbrIDamk4E"
      },
      "source": [
        "import torch.nn as nn\n",
        "import torch.nn.functional as F\n",
        "\n",
        "class Classifier(nn.Module):\n",
        "  def __init__(self):\n",
        "    super(Classifier, self).__init__()\n",
        "    self.fc1 = nn.Linear(11, 512)\n",
        "    self.fc2 = nn.Linear(512, 1024)\n",
        "    self.fc3 = nn.Linear(1024, 512)\n",
        "    self.fc4 = nn.Linear(512, 1)\n",
        "    self.dropout = nn.Dropout(0.5)\n",
        "\n",
        "  def forward(self, x):\n",
        "    x = F.relu(self.fc1(x))\n",
        "    x = self.dropout(x)\n",
        "    x = F.relu(self.fc2(x))\n",
        "    x = self.dropout(x)\n",
        "    x = F.relu(self.fc3(x))\n",
        "    x - self.dropout(x)\n",
        "    y_pred = F.sigmoid(self.fc4(x))\n",
        "    \n",
        "    return y_pred"
      ],
      "execution_count": 87,
      "outputs": []
    },
    {
      "cell_type": "code",
      "metadata": {
        "id": "rtWqk-9spXSO"
      },
      "source": [
        "model = Classifier()\n",
        "criterion = nn.BCELoss()\n",
        "optimizer = torch.optim.SGD(model.parameters(), lr=0.01)"
      ],
      "execution_count": 90,
      "outputs": []
    },
    {
      "cell_type": "code",
      "metadata": {
        "colab": {
          "base_uri": "https://localhost:8080/"
        },
        "id": "EwAiivW4pfg_",
        "outputId": "4155e7a5-7b39-40d9-8062-f1aa77d9b267"
      },
      "source": [
        "for epoch in range(2):\n",
        "  for i, data in enumerate(train_loader, 0):\n",
        "    # get the inputs\n",
        "    inputs, labels = data\n",
        "\n",
        "    # wrap them in Variable\n",
        "    inputs, labels = Variable(inputs), Variable(labels)\n",
        "\n",
        "    # Forward pass: Compute predicted y by passing x to the model\n",
        "    y_pred = model(inputs)\n",
        "    labels = labels.unsqueeze(1).type(torch.float32)\n",
        "    # Compute and print loss\n",
        "    loss = criterion(y_pred, labels)\n",
        "    print(epoch, i, loss.data.item())\n",
        "\n",
        "    # Zero gradients, perform a backward pass, and update the weights\n",
        "    optimizer.zero_grad()\n",
        "    loss.backward()\n",
        "    optimizer.step()"
      ],
      "execution_count": 100,
      "outputs": [
        {
          "output_type": "stream",
          "name": "stderr",
          "text": [
            "/usr/local/lib/python3.7/dist-packages/torch/nn/functional.py:1805: UserWarning: nn.functional.sigmoid is deprecated. Use torch.sigmoid instead.\n",
            "  warnings.warn(\"nn.functional.sigmoid is deprecated. Use torch.sigmoid instead.\")\n"
          ]
        },
        {
          "output_type": "stream",
          "name": "stdout",
          "text": [
            "0 0 0.6575018763542175\n",
            "0 1 0.6522390246391296\n",
            "0 2 0.6644057631492615\n",
            "0 3 0.6821078062057495\n",
            "0 4 0.6469085812568665\n",
            "0 5 0.6539075374603271\n",
            "0 6 0.6867501139640808\n",
            "0 7 0.6553294658660889\n",
            "0 8 0.6650415062904358\n",
            "0 9 0.6595397591590881\n",
            "0 10 0.6599054932594299\n",
            "0 11 0.6363183856010437\n",
            "0 12 0.6575401425361633\n",
            "0 13 0.6755999326705933\n",
            "1 0 0.6281698346138\n",
            "1 1 0.6391613483428955\n",
            "1 2 0.6656372547149658\n",
            "1 3 0.6362169981002808\n",
            "1 4 0.6694052815437317\n",
            "1 5 0.619015634059906\n",
            "1 6 0.6954407691955566\n",
            "1 7 0.667020857334137\n",
            "1 8 0.6571271419525146\n",
            "1 9 0.6468816995620728\n",
            "1 10 0.668258786201477\n",
            "1 11 0.6553488969802856\n",
            "1 12 0.6316803097724915\n",
            "1 13 0.6419953107833862\n"
          ]
        }
      ]
    }
  ]
}