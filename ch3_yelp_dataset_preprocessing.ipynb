{
  "nbformat": 4,
  "nbformat_minor": 0,
  "metadata": {
    "colab": {
      "name": "ch3_yelp_dataset_preprocessing.ipynb",
      "provenance": [],
      "mount_file_id": "1Zvz6zxryScpE5-OftP9Lr6keOUBKtGLP",
      "authorship_tag": "ABX9TyPVIv46TU0CV3wK0IPHwIMt",
      "include_colab_link": true
    },
    "kernelspec": {
      "name": "python3",
      "display_name": "Python 3"
    },
    "language_info": {
      "name": "python"
    }
  },
  "cells": [
    {
      "cell_type": "markdown",
      "metadata": {
        "id": "view-in-github",
        "colab_type": "text"
      },
      "source": [
        "<a href=\"https://colab.research.google.com/github/mori8/NLP-Pytorch-practice/blob/main/ch3_yelp_dataset_preprocessing.ipynb\" target=\"_parent\"><img src=\"https://colab.research.google.com/assets/colab-badge.svg\" alt=\"Open In Colab\"/></a>"
      ]
    },
    {
      "cell_type": "code",
      "metadata": {
        "id": "hXw5THZxyMru"
      },
      "source": [
        "import torch\n",
        "import numpy as n\n",
        "import pandas as pd\n",
        "import regex as re\n",
        "import torch.nn as nn\n",
        "import torch.nn.functional as F\n",
        "import collections\n",
        "\n",
        "from argparse import Namespace"
      ],
      "execution_count": 6,
      "outputs": []
    },
    {
      "cell_type": "code",
      "metadata": {
        "id": "bofgLwoa6CRJ"
      },
      "source": [
        "args = Namespace(\n",
        "    raw_train_dataset_csv=\"/content/drive/MyDrive/NLP-Pytorch/data/yelp/raw_train.csv\",\n",
        "    raw_test_dataset_csv=\"/content/drive/MyDrive/NLP-Pytorch/data/yelp/raw_test.csv\",\n",
        "    proportion_subset_of_train=0.1,\n",
        "    train_proportion=0.7,\n",
        "    val_proportion=0.15,\n",
        "    test_proportion=0.15,\n",
        "    output_munged_csv=\"/content/drive/MyDrive/NLP-Pytorch/data/yelp/reviews_with_splits_lite.csv\",\n",
        "    seed=1337\n",
        ")"
      ],
      "execution_count": 35,
      "outputs": []
    },
    {
      "cell_type": "code",
      "metadata": {
        "colab": {
          "base_uri": "https://localhost:8080/",
          "height": 206
        },
        "id": "1zKeQAfR8THC",
        "outputId": "650a8312-3690-4e32-ba5b-1b9b3c8f5e76"
      },
      "source": [
        "# 원본 데이터 읽기\n",
        "train_reviews = pd.read_csv(args.raw_train_dataset_csv, header=None, names=['rating', 'review'])\n",
        "train_reviews.head()"
      ],
      "execution_count": 24,
      "outputs": [
        {
          "output_type": "execute_result",
          "data": {
            "text/html": [
              "<div>\n",
              "<style scoped>\n",
              "    .dataframe tbody tr th:only-of-type {\n",
              "        vertical-align: middle;\n",
              "    }\n",
              "\n",
              "    .dataframe tbody tr th {\n",
              "        vertical-align: top;\n",
              "    }\n",
              "\n",
              "    .dataframe thead th {\n",
              "        text-align: right;\n",
              "    }\n",
              "</style>\n",
              "<table border=\"1\" class=\"dataframe\">\n",
              "  <thead>\n",
              "    <tr style=\"text-align: right;\">\n",
              "      <th></th>\n",
              "      <th>rating</th>\n",
              "      <th>review</th>\n",
              "    </tr>\n",
              "  </thead>\n",
              "  <tbody>\n",
              "    <tr>\n",
              "      <th>0</th>\n",
              "      <td>1</td>\n",
              "      <td>Unfortunately, the frustration of being Dr. Go...</td>\n",
              "    </tr>\n",
              "    <tr>\n",
              "      <th>1</th>\n",
              "      <td>2</td>\n",
              "      <td>Been going to Dr. Goldberg for over 10 years. ...</td>\n",
              "    </tr>\n",
              "    <tr>\n",
              "      <th>2</th>\n",
              "      <td>1</td>\n",
              "      <td>I don't know what Dr. Goldberg was like before...</td>\n",
              "    </tr>\n",
              "    <tr>\n",
              "      <th>3</th>\n",
              "      <td>1</td>\n",
              "      <td>I'm writing this review to give you a heads up...</td>\n",
              "    </tr>\n",
              "    <tr>\n",
              "      <th>4</th>\n",
              "      <td>2</td>\n",
              "      <td>All the food is great here. But the best thing...</td>\n",
              "    </tr>\n",
              "  </tbody>\n",
              "</table>\n",
              "</div>"
            ],
            "text/plain": [
              "   rating                                             review\n",
              "0       1  Unfortunately, the frustration of being Dr. Go...\n",
              "1       2  Been going to Dr. Goldberg for over 10 years. ...\n",
              "2       1  I don't know what Dr. Goldberg was like before...\n",
              "3       1  I'm writing this review to give you a heads up...\n",
              "4       2  All the food is great here. But the best thing..."
            ]
          },
          "metadata": {},
          "execution_count": 24
        }
      ]
    },
    {
      "cell_type": "code",
      "metadata": {
        "id": "zt9VfUg4-Ij2"
      },
      "source": [
        "# 리뷰 클래스 비율이 모두 동일하게 만들기\n",
        "by_rating = collections.defaultdict(list)\n",
        "for _, row in train_reviews.iterrows():\n",
        "  by_rating[row.rating].append(row.to_dict())\n",
        "\n",
        "review_subset = []\n",
        "\n",
        "for _, item_list in sorted(by_rating.items()):\n",
        "  n_total = len(item_list)\n",
        "  n_subset = int(args.proportion_subset_of_train * n_total)\n",
        "  review_subset.extend(item_list[:n_subset])\n",
        "\n",
        "review_subset = pd.DataFrame(review_subset)"
      ],
      "execution_count": 25,
      "outputs": []
    },
    {
      "cell_type": "code",
      "metadata": {
        "colab": {
          "base_uri": "https://localhost:8080/",
          "height": 206
        },
        "id": "PlDiU9NRAAzc",
        "outputId": "71ed9b1f-4e17-4898-f1bb-5468a40dd8c2"
      },
      "source": [
        "review_subset.head()  # 각 rating 별로 동일한 비율로 서브셋에 들어감"
      ],
      "execution_count": 26,
      "outputs": [
        {
          "output_type": "execute_result",
          "data": {
            "text/html": [
              "<div>\n",
              "<style scoped>\n",
              "    .dataframe tbody tr th:only-of-type {\n",
              "        vertical-align: middle;\n",
              "    }\n",
              "\n",
              "    .dataframe tbody tr th {\n",
              "        vertical-align: top;\n",
              "    }\n",
              "\n",
              "    .dataframe thead th {\n",
              "        text-align: right;\n",
              "    }\n",
              "</style>\n",
              "<table border=\"1\" class=\"dataframe\">\n",
              "  <thead>\n",
              "    <tr style=\"text-align: right;\">\n",
              "      <th></th>\n",
              "      <th>rating</th>\n",
              "      <th>review</th>\n",
              "    </tr>\n",
              "  </thead>\n",
              "  <tbody>\n",
              "    <tr>\n",
              "      <th>0</th>\n",
              "      <td>1</td>\n",
              "      <td>Unfortunately, the frustration of being Dr. Go...</td>\n",
              "    </tr>\n",
              "    <tr>\n",
              "      <th>1</th>\n",
              "      <td>1</td>\n",
              "      <td>I don't know what Dr. Goldberg was like before...</td>\n",
              "    </tr>\n",
              "    <tr>\n",
              "      <th>2</th>\n",
              "      <td>1</td>\n",
              "      <td>I'm writing this review to give you a heads up...</td>\n",
              "    </tr>\n",
              "    <tr>\n",
              "      <th>3</th>\n",
              "      <td>1</td>\n",
              "      <td>Wing sauce is like water. Pretty much a lot of...</td>\n",
              "    </tr>\n",
              "    <tr>\n",
              "      <th>4</th>\n",
              "      <td>1</td>\n",
              "      <td>Owning a driving range inside the city limits ...</td>\n",
              "    </tr>\n",
              "  </tbody>\n",
              "</table>\n",
              "</div>"
            ],
            "text/plain": [
              "   rating                                             review\n",
              "0       1  Unfortunately, the frustration of being Dr. Go...\n",
              "1       1  I don't know what Dr. Goldberg was like before...\n",
              "2       1  I'm writing this review to give you a heads up...\n",
              "3       1  Wing sauce is like water. Pretty much a lot of...\n",
              "4       1  Owning a driving range inside the city limits ..."
            ]
          },
          "metadata": {},
          "execution_count": 26
        }
      ]
    },
    {
      "cell_type": "code",
      "metadata": {
        "colab": {
          "base_uri": "https://localhost:8080/"
        },
        "id": "0ELe2mp7Agik",
        "outputId": "fc662490-d8ff-4807-a967-7d026e4fb0de"
      },
      "source": [
        "train_reviews.rating.value_counts()"
      ],
      "execution_count": 27,
      "outputs": [
        {
          "output_type": "execute_result",
          "data": {
            "text/plain": [
              "2    280000\n",
              "1    280000\n",
              "Name: rating, dtype: int64"
            ]
          },
          "metadata": {},
          "execution_count": 27
        }
      ]
    },
    {
      "cell_type": "code",
      "metadata": {
        "colab": {
          "base_uri": "https://localhost:8080/"
        },
        "id": "oNiRNikpAj8f",
        "outputId": "f65fe28e-8ce0-479a-d9fe-9ebc88402d45"
      },
      "source": [
        "# 고유 클래스\n",
        "set(review_subset.rating)"
      ],
      "execution_count": 28,
      "outputs": [
        {
          "output_type": "execute_result",
          "data": {
            "text/plain": [
              "{1, 2}"
            ]
          },
          "metadata": {},
          "execution_count": 28
        }
      ]
    },
    {
      "cell_type": "markdown",
      "metadata": {
        "id": "jsM3ubQUzmpV"
      },
      "source": [
        "### 훈련, 검증, 테스트 세트 만들기"
      ]
    },
    {
      "cell_type": "code",
      "metadata": {
        "id": "Ec1-hwEnzhz3"
      },
      "source": [
        "# 별점 기준으로 나누어 훈련, 검증, 테스트 데이터셋을 만든다.\n",
        "by_rating = collections.defaultdict(list)\n",
        "for _, row in review_subset.iterrows():\n",
        "  by_rating[row.rating].append(row.to_dict())\n",
        "\n",
        "# 분할 데이터를 만든다.\n",
        "final_list = []\n",
        "np.random.seed(args.seed)\n",
        "\n",
        "for _, item_list in sorted(by_rating.items()):\n",
        "  np.random.shuffle(item_list)\n",
        "  n_total = len(item_list)\n",
        "  n_train = int(args.train_proportion * n_total)\n",
        "  n_val = int(args.val_proportion * n_total)\n",
        "  n_test = int(args.test_proportion * n_total)\n",
        "\n",
        "  for item in item_list[:n_train]:\n",
        "    item['split'] = 'train'\n",
        "  \n",
        "  for item in item_list[n_train:n_train+n_val]:\n",
        "    item['split'] = 'val'\n",
        "  \n",
        "  for item in item_list[n_train+n_val:n_train+n_val+n_test]:\n",
        "    item['split'] = 'test'\n",
        "  \n",
        "  final_list.extend(item_list)\n",
        "\n",
        "final_reviews = pd.DataFrame(final_list)"
      ],
      "execution_count": 29,
      "outputs": []
    },
    {
      "cell_type": "code",
      "metadata": {
        "colab": {
          "base_uri": "https://localhost:8080/"
        },
        "id": "8p2XH1GEBaIv",
        "outputId": "933d6fcb-9185-4fad-efa6-8bd5ad7fb9ec"
      },
      "source": [
        "final_reviews.split.value_counts()"
      ],
      "execution_count": 30,
      "outputs": [
        {
          "output_type": "execute_result",
          "data": {
            "text/plain": [
              "train    39200\n",
              "val       8400\n",
              "test      8400\n",
              "Name: split, dtype: int64"
            ]
          },
          "metadata": {},
          "execution_count": 30
        }
      ]
    },
    {
      "cell_type": "markdown",
      "metadata": {
        "id": "fzDv-p5H1sjC"
      },
      "source": [
        "### 데이터 정제 작업\n",
        "구두점 기호 앞뒤에 공백을 넣고, 구두점이 아닌 기호를 제거한다."
      ]
    },
    {
      "cell_type": "code",
      "metadata": {
        "id": "Cd6DgET71pdX"
      },
      "source": [
        "def preprocess_text(text):\n",
        "  text = text.lower()\n",
        "  text = re.sub(r\"([.,!?])\", r\" \\1 \", text)\n",
        "  text = re.sub(r\"[^a-zA-Z.,!?]+\", r\" \", text)\n",
        "  \n",
        "  return text\n",
        "\n",
        "final_reviews.review = final_reviews.review.apply(preprocess_text)"
      ],
      "execution_count": 31,
      "outputs": []
    },
    {
      "cell_type": "code",
      "metadata": {
        "id": "tzKpDpOhBiOo"
      },
      "source": [
        "final_reviews['rating'] = final_reviews.rating.apply({1: 'negative', 2: 'positive'}.get)"
      ],
      "execution_count": 32,
      "outputs": []
    },
    {
      "cell_type": "code",
      "metadata": {
        "colab": {
          "base_uri": "https://localhost:8080/",
          "height": 206
        },
        "id": "p2TPNcULBt_h",
        "outputId": "b5c6918e-f830-4fae-eab9-05ddae17dceb"
      },
      "source": [
        "final_reviews.head()"
      ],
      "execution_count": 33,
      "outputs": [
        {
          "output_type": "execute_result",
          "data": {
            "text/html": [
              "<div>\n",
              "<style scoped>\n",
              "    .dataframe tbody tr th:only-of-type {\n",
              "        vertical-align: middle;\n",
              "    }\n",
              "\n",
              "    .dataframe tbody tr th {\n",
              "        vertical-align: top;\n",
              "    }\n",
              "\n",
              "    .dataframe thead th {\n",
              "        text-align: right;\n",
              "    }\n",
              "</style>\n",
              "<table border=\"1\" class=\"dataframe\">\n",
              "  <thead>\n",
              "    <tr style=\"text-align: right;\">\n",
              "      <th></th>\n",
              "      <th>rating</th>\n",
              "      <th>review</th>\n",
              "      <th>split</th>\n",
              "    </tr>\n",
              "  </thead>\n",
              "  <tbody>\n",
              "    <tr>\n",
              "      <th>0</th>\n",
              "      <td>negative</td>\n",
              "      <td>terrible place to work for i just heard a stor...</td>\n",
              "      <td>train</td>\n",
              "    </tr>\n",
              "    <tr>\n",
              "      <th>1</th>\n",
              "      <td>negative</td>\n",
              "      <td>hours , minutes total time for an extremely s...</td>\n",
              "      <td>train</td>\n",
              "    </tr>\n",
              "    <tr>\n",
              "      <th>2</th>\n",
              "      <td>negative</td>\n",
              "      <td>my less than stellar review is for service . w...</td>\n",
              "      <td>train</td>\n",
              "    </tr>\n",
              "    <tr>\n",
              "      <th>3</th>\n",
              "      <td>negative</td>\n",
              "      <td>i m granting one star because there s no way t...</td>\n",
              "      <td>train</td>\n",
              "    </tr>\n",
              "    <tr>\n",
              "      <th>4</th>\n",
              "      <td>negative</td>\n",
              "      <td>the food here is mediocre at best . i went aft...</td>\n",
              "      <td>train</td>\n",
              "    </tr>\n",
              "  </tbody>\n",
              "</table>\n",
              "</div>"
            ],
            "text/plain": [
              "     rating                                             review  split\n",
              "0  negative  terrible place to work for i just heard a stor...  train\n",
              "1  negative   hours , minutes total time for an extremely s...  train\n",
              "2  negative  my less than stellar review is for service . w...  train\n",
              "3  negative  i m granting one star because there s no way t...  train\n",
              "4  negative  the food here is mediocre at best . i went aft...  train"
            ]
          },
          "metadata": {},
          "execution_count": 33
        }
      ]
    },
    {
      "cell_type": "code",
      "metadata": {
        "id": "915Pd8K1By6W"
      },
      "source": [
        "final_reviews.to_csv(args.output_munged_csv, index=False)"
      ],
      "execution_count": 36,
      "outputs": []
    }
  ]
}